{
 "cells": [
  {
   "cell_type": "code",
   "execution_count": 1,
   "metadata": {},
   "outputs": [],
   "source": [
    "import pandas as pd"
   ]
  },
  {
   "cell_type": "code",
   "execution_count": 2,
   "metadata": {},
   "outputs": [],
   "source": [
    "data=pd.read_csv(\"file.csv\")"
   ]
  },
  {
   "cell_type": "code",
   "execution_count": 3,
   "metadata": {},
   "outputs": [
    {
     "data": {
      "text/html": [
       "<div>\n",
       "<style scoped>\n",
       "    .dataframe tbody tr th:only-of-type {\n",
       "        vertical-align: middle;\n",
       "    }\n",
       "\n",
       "    .dataframe tbody tr th {\n",
       "        vertical-align: top;\n",
       "    }\n",
       "\n",
       "    .dataframe thead th {\n",
       "        text-align: right;\n",
       "    }\n",
       "</style>\n",
       "<table border=\"1\" class=\"dataframe\">\n",
       "  <thead>\n",
       "    <tr style=\"text-align: right;\">\n",
       "      <th></th>\n",
       "      <th>Date</th>\n",
       "      <th>Name / Description</th>\n",
       "      <th>Expense/Income</th>\n",
       "      <th>Amount</th>\n",
       "    </tr>\n",
       "  </thead>\n",
       "  <tbody>\n",
       "    <tr>\n",
       "      <th>0</th>\n",
       "      <td>2023-12-30</td>\n",
       "      <td>Belastingdienst</td>\n",
       "      <td>Expense</td>\n",
       "      <td>9.96</td>\n",
       "    </tr>\n",
       "    <tr>\n",
       "      <th>1</th>\n",
       "      <td>2023-12-30</td>\n",
       "      <td>Tesco Breda</td>\n",
       "      <td>Expense</td>\n",
       "      <td>17.53</td>\n",
       "    </tr>\n",
       "    <tr>\n",
       "      <th>2</th>\n",
       "      <td>2023-12-30</td>\n",
       "      <td>Monthly Appartment Rent</td>\n",
       "      <td>Expense</td>\n",
       "      <td>451.00</td>\n",
       "    </tr>\n",
       "    <tr>\n",
       "      <th>3</th>\n",
       "      <td>2023-12-30</td>\n",
       "      <td>Vishandel Sier Amsterdam</td>\n",
       "      <td>Expense</td>\n",
       "      <td>12.46</td>\n",
       "    </tr>\n",
       "    <tr>\n",
       "      <th>4</th>\n",
       "      <td>2023-12-29</td>\n",
       "      <td>Selling Paintings</td>\n",
       "      <td>Income</td>\n",
       "      <td>13.63</td>\n",
       "    </tr>\n",
       "  </tbody>\n",
       "</table>\n",
       "</div>"
      ],
      "text/plain": [
       "         Date        Name / Description Expense/Income  Amount\n",
       "0  2023-12-30           Belastingdienst        Expense    9.96\n",
       "1  2023-12-30               Tesco Breda        Expense   17.53\n",
       "2  2023-12-30   Monthly Appartment Rent        Expense  451.00\n",
       "3  2023-12-30  Vishandel Sier Amsterdam        Expense   12.46\n",
       "4  2023-12-29         Selling Paintings         Income   13.63"
      ]
     },
     "execution_count": 3,
     "metadata": {},
     "output_type": "execute_result"
    }
   ],
   "source": [
    "data.head()"
   ]
  },
  {
   "cell_type": "code",
   "execution_count": 11,
   "metadata": {
    "vscode": {
     "languageId": "javascript"
    }
   },
   "outputs": [
    {
     "name": "stdout",
     "output_type": "stream",
     "text": [
      "20     4044.270000\n",
      "158    4029.816417\n",
      "112    4022.672827\n",
      "274    3988.804176\n",
      "268    3965.644666\n",
      "Name: Amount, dtype: float64\n"
     ]
    }
   ],
   "source": [
    "top_incomes = data[data['Expense/Income'] == 'Income'].nlargest(5, 'Amount')\n",
    "print(top_incomes[\"Amount\"])"
   ]
  },
  {
   "cell_type": "code",
   "execution_count": 12,
   "metadata": {
    "vscode": {
     "languageId": "javascript"
    }
   },
   "outputs": [
    {
     "name": "stdout",
     "output_type": "stream",
     "text": [
      "Date                  2022-05-20 00:00:00\n",
      "Name / Description                 Salary\n",
      "Expense/Income                     Income\n",
      "Amount                        4029.816417\n",
      "Name: 158, dtype: object\n"
     ]
    }
   ],
   "source": [
    "second_highest_income = top_incomes.nlargest(2, 'Amount').iloc[1]\n",
    "print(second_highest_income)"
   ]
  },
  {
   "cell_type": "code",
   "execution_count": 13,
   "metadata": {
    "vscode": {
     "languageId": "ruby"
    }
   },
   "outputs": [],
   "source": [
    "def financial_advisor(data):\n",
    "    # Calculate total income and expenses\n",
    "    total_income = data[data['Expense/Income'] == 'Income']['Amount'].sum()\n",
    "    total_expenses = data[data['Expense/Income'] == 'Expense']['Amount'].sum()\n",
    "\n",
    "    # Calculate net income\n",
    "    net_income = total_income - total_expenses\n",
    "\n",
    "    # Calculate average income and expenses\n",
    "    average_income = data[data['Expense/Income'] == 'Income']['Amount'].mean()\n",
    "    average_expenses = data[data['Expense/Income'] == 'Expense']['Amount'].mean()\n",
    "\n",
    "    # Identify the highest income source\n",
    "    highest_income_source = data[data['Expense/Income'] == 'Income'].nlargest(1, 'Amount')['Name / Description'].values[0]\n",
    "\n",
    "    # Identify the highest expense category\n",
    "    highest_expense_category = data[data['Expense/Income'] == 'Expense'].nlargest(1, 'Amount')['Name / Description'].values[0]\n",
    "\n",
    "    # Provide recommendations based on the financial information\n",
    "    recommendations = []\n",
    "    if net_income < 0:\n",
    "        recommendations.append(\"Your expenses exceed your income. Consider reducing expenses or increasing income.\")\n",
    "    if average_expenses > average_income:\n",
    "        recommendations.append(\"Your average expenses are higher than your average income. Review your spending habits.\")\n",
    "    if highest_expense_category == 'Monthly Appartment Rent':\n",
    "        recommendations.append(\"Consider exploring cheaper housing options to reduce your expenses.\")\n",
    "    if highest_income_source == 'Freelancing':\n",
    "        recommendations.append(\"Focus on expanding your freelancing opportunities to increase your income.\")\n",
    "\n",
    "    return recommendations\n",
    "\n",
    "# Call the financial advisor function with the given data\n",
    "advisor_recommendations = financial_advisor(data)\n",
    "\n",
    "# Print the recommendations\n",
    "for recommendation in advisor_recommendations:\n",
    "    print(recommendation)"
   ]
  },
  {
   "cell_type": "code",
   "execution_count": null,
   "metadata": {
    "vscode": {
     "languageId": "coffeescript"
    }
   },
   "outputs": [],
   "source": [
    "import openai\n",
    "\n",
    "# Set up OpenAI API credentials\n",
    "openai.api_key = 'YOUR_API_KEY'\n",
    "\n",
    "# Define the financial advising prompt\n",
    "prompt = \"\"\"\n",
    "User: What should I do with my savings?\n",
    "Bot: As a financial advisor, I recommend considering different investment options based on your financial goals and risk tolerance. Some popular options include stocks, bonds, mutual funds, and real estate. It's important to diversify your portfolio to minimize risk. Additionally, you may want to consult with a professional financial advisor to get personalized advice based on your specific situation.\n",
    "\n",
    "User: How can I save money on a tight budget?\n",
    "Bot: Saving money on a tight budget can be challenging, but it's definitely possible. Here are some tips:\n",
    "1. Create a budget and track your expenses to identify areas where you can cut back.\n",
    "2. Look for ways to reduce your monthly bills, such as negotiating lower rates for utilities or switching to a cheaper phone plan.\n",
    "3. Cut down on discretionary expenses like eating out or entertainment.\n",
    "4. Consider alternative transportation options, like biking or carpooling, to save on gas.\n",
    "5. Look for deals and discounts when shopping for groceries or other essentials.\n",
    "Remember, every little bit counts, so even small savings can add up over time.\n",
    "\n",
    "User: How can I improve my credit score?\n",
    "Bot: Improving your credit score takes time and effort, but it's definitely worth it. Here are some steps you can take:\n",
    "1. Pay your bills on time: Late payments can negatively impact your credit score, so make sure to pay your bills by their due dates.\n",
    "2. Reduce your credit card balances: High credit card balances can hurt your credit utilization ratio, so try to pay down your balances as much as possible.\n",
    "3. Avoid opening too many new credit accounts: Opening multiple new credit accounts within a short period of time can lower your average account age and negatively impact your credit score.\n",
    "4. Monitor your credit report: Regularly check your credit report for errors or fraudulent activity. If you spot any inaccuracies, dispute them with the credit bureaus.\n",
    "5. Use credit responsibly: Only borrow what you can afford to repay and avoid maxing out your credit cards.\n",
    "By following these steps and practicing good financial habits, you can gradually improve your credit score.\n",
    "\n",
    "User: What are some tax-saving strategies?\n",
    "Bot: There are several tax-saving strategies you can consider:\n",
    "1. Contribute to retirement accounts: Contributions to retirement accounts like 401(k)s or IRAs can be tax-deductible and help lower your taxable income.\n",
    "2. Take advantage of tax credits: Research and take advantage of any tax credits you may be eligible for, such as the Earned Income Tax Credit or the Child Tax Credit.\n",
    "3. Itemize deductions: If your itemized deductions exceed the standard deduction, consider itemizing to potentially lower your taxable income.\n",
    "4. Maximize your healthcare savings: Contribute to a Health Savings Account (HSA) or a Flexible Spending Account (FSA) to save on healthcare expenses with pre-tax dollars.\n",
    "5. Consider tax-efficient investments: Investments like municipal bonds or tax-managed funds can help minimize your tax liability.\n",
    "Remember, tax laws can be complex, so it's always a good idea to consult with a tax professional to ensure you're maximizing your tax savings.\n",
    "\n",
    "User: Thank you for the advice!\n",
    "Bot: You're welcome! If you have any more questions, feel free to ask. I'm here to help!\n",
    "\"\"\"\n",
    "\n",
    "# Generate a response from the chatbot\n",
    "response = openai.Completion.create(\n",
    "    engine=\"text-davinci-003\",\n",
    "    prompt=prompt,\n",
    "    max_tokens=100,\n",
    "    temperature=0.7,\n",
    "    n=1,\n",
    "    stop=None,\n",
    "    temperature=0.7\n",
    ")\n",
    "\n",
    "# Print the chatbot's response\n",
    "print(\"Bot:\", response.choices[0].text.strip())"
   ]
  }
 ],
 "metadata": {
  "kernelspec": {
   "display_name": ".venv",
   "language": "python",
   "name": "python3"
  },
  "language_info": {
   "codemirror_mode": {
    "name": "ipython",
    "version": 3
   },
   "file_extension": ".py",
   "mimetype": "text/x-python",
   "name": "python",
   "nbconvert_exporter": "python",
   "pygments_lexer": "ipython3",
   "version": "3.12.4"
  }
 },
 "nbformat": 4,
 "nbformat_minor": 2
}
